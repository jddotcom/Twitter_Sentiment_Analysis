{
  "nbformat": 4,
  "nbformat_minor": 0,
  "metadata": {
    "kernelspec": {
      "name": "python3",
      "display_name": "Python 3"
    },
    "language_info": {
      "name": "python",
      "version": "3.6.4",
      "mimetype": "text/x-python",
      "codemirror_mode": {
        "name": "ipython",
        "version": 3
      },
      "pygments_lexer": "ipython3",
      "nbconvert_exporter": "python",
      "file_extension": ".py"
    },
    "colab": {
      "provenance": [],
      "collapsed_sections": [
        "-Y0ZFC6kUuHD"
      ],
      "include_colab_link": true
    },
    "accelerator": "GPU"
  },
  "cells": [
    {
      "cell_type": "markdown",
      "metadata": {
        "id": "view-in-github",
        "colab_type": "text"
      },
      "source": [
        "<a href=\"https://colab.research.google.com/github/jddotcom/Twitter_Sentiment_Analysis/blob/main/AV_practice_problem_Twitter_Sentiment_Analysis.ipynb\" target=\"_parent\"><img src=\"https://colab.research.google.com/assets/colab-badge.svg\" alt=\"Open In Colab\"/></a>"
      ]
    },
    {
      "cell_type": "markdown",
      "metadata": {
        "id": "XPMx5Xe29QlR"
      },
      "source": [
        "# **Analytics Vidhya Practice Problem: Twitter Sentiment Analysis 2019**\n",
        "\n",
        "Sentiment Analysis in Python with sklearn package\n",
        "\n",
        "# https://satya-python.blogspot.com/\n",
        "\n",
        "Jupyter Notebook in Google Colab\n"
      ]
    },
    {
      "cell_type": "code",
      "metadata": {
        "id": "gA4llW4JLLym"
      },
      "source": [],
      "execution_count": null,
      "outputs": []
    },
    {
      "cell_type": "code",
      "metadata": {
        "colab": {
          "base_uri": "https://localhost:8080/"
        },
        "id": "p-6N8tKQLMZb",
        "outputId": "811c7dd2-bd40-4132-adc1-1e31129161b2"
      },
      "source": [
        "from google.colab import drive\n",
        "drive.mount('/content/drive')"
      ],
      "execution_count": null,
      "outputs": [
        {
          "output_type": "stream",
          "text": [
            "Mounted at /content/drive\n"
          ],
          "name": "stdout"
        }
      ]
    },
    {
      "cell_type": "code",
      "metadata": {
        "_uuid": "8f2839f25d086af736a60e9eeb907d3b93b6e0e5",
        "_cell_guid": "b1076dfc-b9ad-4769-8c92-a6c4dae69d19",
        "trusted": true,
        "id": "A-Xk_PcKcjwk",
        "colab": {
          "base_uri": "https://localhost:8080/"
        },
        "outputId": "8853a257-7383-42e8-d9d4-830fa4255eab"
      },
      "source": [
        "# Importing required packages\n",
        "\n",
        "import numpy as np\n",
        "import pandas as pd\n",
        "import seaborn as sns\n",
        "import re\n",
        "\n",
        "from sklearn.model_selection import train_test_split\n",
        "from sklearn.svm import SVC\n",
        "from sklearn import metrics\n",
        "from sklearn.metrics import accuracy_score, f1_score\n",
        "from sklearn.feature_extraction.text import CountVectorizer, TfidfVectorizer, HashingVectorizer, TfidfTransformer\n",
        "from sklearn.model_selection import GridSearchCV\n",
        "\n",
        "from google.colab import files\n",
        "\n",
        "import warnings\n",
        "warnings.filterwarnings('ignore')\n",
        "\n",
        "import nltk\n",
        "nltk.download(\"stopwords\")"
      ],
      "execution_count": null,
      "outputs": [
        {
          "output_type": "stream",
          "text": [
            "[nltk_data] Downloading package stopwords to /root/nltk_data...\n",
            "[nltk_data]   Unzipping corpora/stopwords.zip.\n"
          ],
          "name": "stdout"
        },
        {
          "output_type": "execute_result",
          "data": {
            "text/plain": [
              "True"
            ]
          },
          "metadata": {
            "tags": []
          },
          "execution_count": 2
        }
      ]
    },
    {
      "cell_type": "markdown",
      "metadata": {
        "id": "bc_HR-8fSWBB"
      },
      "source": [
        "## Reading Data"
      ]
    },
    {
      "cell_type": "code",
      "metadata": {
        "_cell_guid": "79c7e3d0-c299-4dcb-8224-4455121ee9b0",
        "_uuid": "d629ff2d2480ee46fbb7e2d37f6b5fab8052498a",
        "trusted": true,
        "id": "C6XbBMfGcjwn"
      },
      "source": [
        "train = pd.read_csv(\"/content/drive/MyDrive/Colab Notebooks/Analytics Vidya/Twitter Sentiment Analysis/train_E6oV3lV.csv\")\n",
        "test = pd.read_csv(\"/content/drive/MyDrive/Colab Notebooks/Analytics Vidya/Twitter Sentiment Analysis/test_tweets_anuFYb8.csv\")"
      ],
      "execution_count": null,
      "outputs": []
    },
    {
      "cell_type": "markdown",
      "metadata": {
        "id": "IQgANrYFsXM8"
      },
      "source": [
        "## EDA - Exploratory Data Analysis"
      ]
    },
    {
      "cell_type": "code",
      "metadata": {
        "id": "wdxBIu05g_Gd",
        "colab": {
          "base_uri": "https://localhost:8080/"
        },
        "outputId": "180feed3-78c1-4144-bbf7-44d8faf8643e"
      },
      "source": [
        "train.info()"
      ],
      "execution_count": null,
      "outputs": [
        {
          "output_type": "stream",
          "text": [
            "<class 'pandas.core.frame.DataFrame'>\n",
            "RangeIndex: 31962 entries, 0 to 31961\n",
            "Data columns (total 3 columns):\n",
            " #   Column  Non-Null Count  Dtype \n",
            "---  ------  --------------  ----- \n",
            " 0   id      31962 non-null  int64 \n",
            " 1   label   31962 non-null  int64 \n",
            " 2   tweet   31962 non-null  object\n",
            "dtypes: int64(2), object(1)\n",
            "memory usage: 749.2+ KB\n"
          ],
          "name": "stdout"
        }
      ]
    },
    {
      "cell_type": "code",
      "metadata": {
        "id": "d0hPPosmTpYM",
        "colab": {
          "base_uri": "https://localhost:8080/"
        },
        "outputId": "fab694d9-842d-4551-824a-15f9c555a7e1"
      },
      "source": [
        "# Checking for NULL/missing values\n",
        "train.isnull().sum()"
      ],
      "execution_count": null,
      "outputs": [
        {
          "output_type": "execute_result",
          "data": {
            "text/plain": [
              "id       0\n",
              "label    0\n",
              "tweet    0\n",
              "dtype: int64"
            ]
          },
          "metadata": {
            "tags": []
          },
          "execution_count": 6
        }
      ]
    },
    {
      "cell_type": "code",
      "metadata": {
        "id": "4xvmZVK6SFog"
      },
      "source": [
        "from nltk import word_tokenize\n",
        "from nltk.corpus import stopwords\n",
        "stop_words = stopwords.words('english')\n",
        "\n",
        "def remove_stopwords(string):\n",
        "    word_list = [word.lower() for word in string.split()]\n",
        "    stopwords_list = list(stopwords.words(\"english\"))\n",
        "    for word in word_list:\n",
        "        if word in stopwords_list:\n",
        "            word_list.remove(word)\n",
        "    return ' '.join(word_list)\n"
      ],
      "execution_count": null,
      "outputs": []
    },
    {
      "cell_type": "code",
      "metadata": {
        "trusted": true,
        "id": "oo14gnaBcjwp",
        "colab": {
          "base_uri": "https://localhost:8080/",
          "height": 359
        },
        "outputId": "73080540-8285-4282-f0cc-d3e24f14e160"
      },
      "source": [
        "train.head(10)"
      ],
      "execution_count": null,
      "outputs": [
        {
          "output_type": "execute_result",
          "data": {
            "text/html": [
              "<div>\n",
              "<style scoped>\n",
              "    .dataframe tbody tr th:only-of-type {\n",
              "        vertical-align: middle;\n",
              "    }\n",
              "\n",
              "    .dataframe tbody tr th {\n",
              "        vertical-align: top;\n",
              "    }\n",
              "\n",
              "    .dataframe thead th {\n",
              "        text-align: right;\n",
              "    }\n",
              "</style>\n",
              "<table border=\"1\" class=\"dataframe\">\n",
              "  <thead>\n",
              "    <tr style=\"text-align: right;\">\n",
              "      <th></th>\n",
              "      <th>id</th>\n",
              "      <th>label</th>\n",
              "      <th>tweet</th>\n",
              "    </tr>\n",
              "  </thead>\n",
              "  <tbody>\n",
              "    <tr>\n",
              "      <th>0</th>\n",
              "      <td>1</td>\n",
              "      <td>0</td>\n",
              "      <td>@user when a father is dysfunctional and is s...</td>\n",
              "    </tr>\n",
              "    <tr>\n",
              "      <th>1</th>\n",
              "      <td>2</td>\n",
              "      <td>0</td>\n",
              "      <td>@user @user thanks for #lyft credit i can't us...</td>\n",
              "    </tr>\n",
              "    <tr>\n",
              "      <th>2</th>\n",
              "      <td>3</td>\n",
              "      <td>0</td>\n",
              "      <td>bihday your majesty</td>\n",
              "    </tr>\n",
              "    <tr>\n",
              "      <th>3</th>\n",
              "      <td>4</td>\n",
              "      <td>0</td>\n",
              "      <td>#model   i love u take with u all the time in ...</td>\n",
              "    </tr>\n",
              "    <tr>\n",
              "      <th>4</th>\n",
              "      <td>5</td>\n",
              "      <td>0</td>\n",
              "      <td>factsguide: society now    #motivation</td>\n",
              "    </tr>\n",
              "    <tr>\n",
              "      <th>5</th>\n",
              "      <td>6</td>\n",
              "      <td>0</td>\n",
              "      <td>[2/2] huge fan fare and big talking before the...</td>\n",
              "    </tr>\n",
              "    <tr>\n",
              "      <th>6</th>\n",
              "      <td>7</td>\n",
              "      <td>0</td>\n",
              "      <td>@user camping tomorrow @user @user @user @use...</td>\n",
              "    </tr>\n",
              "    <tr>\n",
              "      <th>7</th>\n",
              "      <td>8</td>\n",
              "      <td>0</td>\n",
              "      <td>the next school year is the year for exams.ð...</td>\n",
              "    </tr>\n",
              "    <tr>\n",
              "      <th>8</th>\n",
              "      <td>9</td>\n",
              "      <td>0</td>\n",
              "      <td>we won!!! love the land!!! #allin #cavs #champ...</td>\n",
              "    </tr>\n",
              "    <tr>\n",
              "      <th>9</th>\n",
              "      <td>10</td>\n",
              "      <td>0</td>\n",
              "      <td>@user @user welcome here !  i'm   it's so #gr...</td>\n",
              "    </tr>\n",
              "  </tbody>\n",
              "</table>\n",
              "</div>"
            ],
            "text/plain": [
              "   id  label                                              tweet\n",
              "0   1      0   @user when a father is dysfunctional and is s...\n",
              "1   2      0  @user @user thanks for #lyft credit i can't us...\n",
              "2   3      0                                bihday your majesty\n",
              "3   4      0  #model   i love u take with u all the time in ...\n",
              "4   5      0             factsguide: society now    #motivation\n",
              "5   6      0  [2/2] huge fan fare and big talking before the...\n",
              "6   7      0   @user camping tomorrow @user @user @user @use...\n",
              "7   8      0  the next school year is the year for exams.ð...\n",
              "8   9      0  we won!!! love the land!!! #allin #cavs #champ...\n",
              "9  10      0   @user @user welcome here !  i'm   it's so #gr..."
            ]
          },
          "metadata": {
            "tags": []
          },
          "execution_count": 8
        }
      ]
    },
    {
      "cell_type": "code",
      "metadata": {
        "id": "vwkgyReVqdYR",
        "colab": {
          "base_uri": "https://localhost:8080/",
          "height": 359
        },
        "outputId": "c29111d4-49e3-44a4-946c-b6e68ea09d0f"
      },
      "source": [
        "train['tweet_length'] = train['tweet'].apply(len)\n",
        "train['tweet'] = train['tweet'].map(lambda x: re.sub('\\\\n',' ',str(x)))\n",
        "train['tweet'] = train['tweet'].map(lambda x: re.sub(r'\\W',' ',str(x)))\n",
        "train['tweet'] = train['tweet'].map(lambda x: re.sub(r'https\\s+|www.\\s+',r'', str(x)))\n",
        "train['tweet'] = train['tweet'].map(lambda x: re.sub(r'http\\s+|www.\\s+',r'', str(x)))\n",
        "train['tweet'] = train['tweet'].map(lambda x: re.sub(r'\\s+[a-zA-Z]\\s+',' ',str(x)))\n",
        "train['tweet'] = train['tweet'].map(lambda x: re.sub(r'\\^[a-zA-Z]\\s+',' ',str(x)))\n",
        "train['tweet'] = train['tweet'].map(lambda x: re.sub(r'\\s+',' ',str(x)))\n",
        "train['tweet'] = train['tweet'].str.lower()\n",
        "\n",
        "train['tweet'] = train['tweet'].map(lambda x: re.sub(r\"\\’\", \"\\'\", str(x)))\n",
        "train['tweet'] = train['tweet'].map(lambda x: re.sub(r\"won\\'t\", \"will not\", str(x)))\n",
        "train['tweet'] = train['tweet'].map(lambda x: re.sub(r\"can\\'t\", \"can not\", str(x)))\n",
        "train['tweet'] = train['tweet'].map(lambda x: re.sub(r\"don\\'t\", \"do not\", str(x)))\n",
        "train['tweet'] = train['tweet'].map(lambda x: re.sub(r\"dont\", \"do not\", str(x)))\n",
        "train['tweet'] = train['tweet'].map(lambda x: re.sub(r\"n\\’t\", \" not\", str(x)))\n",
        "train['tweet'] = train['tweet'].map(lambda x: re.sub(r\"n\\'t\", \" not\", str(x)))\n",
        "train['tweet'] = train['tweet'].map(lambda x: re.sub(r\"\\'re\", \" are\", str(x)))\n",
        "train['tweet'] = train['tweet'].map(lambda x: re.sub(r\"\\'s\", \" is\", str(x)))\n",
        "train['tweet'] = train['tweet'].map(lambda x: re.sub(r\"\\’d\", \" would\", str(x)))\n",
        "train['tweet'] = train['tweet'].map(lambda x: re.sub(r\"\\d\", \" would\", str(x)))\n",
        "train['tweet'] = train['tweet'].map(lambda x: re.sub(r\"\\'ll\", \" will\", str(x)))\n",
        "train['tweet'] = train['tweet'].map(lambda x: re.sub(r\"\\'t\", \" not\", str(x)))\n",
        "train['tweet'] = train['tweet'].map(lambda x: re.sub(r\"\\'ve\", \" have\", str(x)))\n",
        "train['tweet'] = train['tweet'].map(lambda x: re.sub(r\"\\'m\", \" am\", str(x)))\n",
        "train['tweet'] = train['tweet'].map(lambda x: re.sub(r\"\\n\", \"\", str(x)))\n",
        "train['tweet'] = train['tweet'].map(lambda x: re.sub(r\"\\r\", \"\", str(x)))\n",
        "train['tweet'] = train['tweet'].map(lambda x: re.sub(r\"[0-9]\", \"digit\", str(x)))\n",
        "train['tweet'] = train['tweet'].map(lambda x: re.sub(r\"\\'\", \"\", str(x)))\n",
        "train['tweet'] = train['tweet'].map(lambda x: re.sub(r\"\\\"\", \"\", str(x)))\n",
        "train['tweet'] = train['tweet'].map(lambda x: re.sub(r'[?|!|\\'|\"|#]',r'', str(x)))\n",
        "train['tweet'] = train['tweet'].map(lambda x: re.sub(r'[.|,|)|(|\\|/]',r' ', str(x)))\n",
        "train['tweet'] = train['tweet'].apply(lambda x: remove_stopwords(x))\n",
        "train.head(10)"
      ],
      "execution_count": null,
      "outputs": [
        {
          "output_type": "execute_result",
          "data": {
            "text/html": [
              "<div>\n",
              "<style scoped>\n",
              "    .dataframe tbody tr th:only-of-type {\n",
              "        vertical-align: middle;\n",
              "    }\n",
              "\n",
              "    .dataframe tbody tr th {\n",
              "        vertical-align: top;\n",
              "    }\n",
              "\n",
              "    .dataframe thead th {\n",
              "        text-align: right;\n",
              "    }\n",
              "</style>\n",
              "<table border=\"1\" class=\"dataframe\">\n",
              "  <thead>\n",
              "    <tr style=\"text-align: right;\">\n",
              "      <th></th>\n",
              "      <th>id</th>\n",
              "      <th>label</th>\n",
              "      <th>tweet</th>\n",
              "      <th>tweet_length</th>\n",
              "    </tr>\n",
              "  </thead>\n",
              "  <tbody>\n",
              "    <tr>\n",
              "      <th>0</th>\n",
              "      <td>1</td>\n",
              "      <td>0</td>\n",
              "      <td>user father dysfunctional is selfish drags kid...</td>\n",
              "      <td>102</td>\n",
              "    </tr>\n",
              "    <tr>\n",
              "      <th>1</th>\n",
              "      <td>2</td>\n",
              "      <td>0</td>\n",
              "      <td>user user thanks lyft credit use cause don off...</td>\n",
              "      <td>122</td>\n",
              "    </tr>\n",
              "    <tr>\n",
              "      <th>2</th>\n",
              "      <td>3</td>\n",
              "      <td>0</td>\n",
              "      <td>bihday majesty</td>\n",
              "      <td>21</td>\n",
              "    </tr>\n",
              "    <tr>\n",
              "      <th>3</th>\n",
              "      <td>4</td>\n",
              "      <td>0</td>\n",
              "      <td>model love take all time urð ð ð ð ð ð ð ð</td>\n",
              "      <td>86</td>\n",
              "    </tr>\n",
              "    <tr>\n",
              "      <th>4</th>\n",
              "      <td>5</td>\n",
              "      <td>0</td>\n",
              "      <td>factsguide society motivation</td>\n",
              "      <td>39</td>\n",
              "    </tr>\n",
              "    <tr>\n",
              "      <th>5</th>\n",
              "      <td>6</td>\n",
              "      <td>0</td>\n",
              "      <td>would would huge fan fare big talking they lea...</td>\n",
              "      <td>116</td>\n",
              "    </tr>\n",
              "    <tr>\n",
              "      <th>6</th>\n",
              "      <td>7</td>\n",
              "      <td>0</td>\n",
              "      <td>user camping tomorrow user user user user user...</td>\n",
              "      <td>74</td>\n",
              "    </tr>\n",
              "    <tr>\n",
              "      <th>7</th>\n",
              "      <td>8</td>\n",
              "      <td>0</td>\n",
              "      <td>next school year the year exams ð think that ð...</td>\n",
              "      <td>143</td>\n",
              "    </tr>\n",
              "    <tr>\n",
              "      <th>8</th>\n",
              "      <td>9</td>\n",
              "      <td>0</td>\n",
              "      <td>won love land allin cavs champions cleveland c...</td>\n",
              "      <td>87</td>\n",
              "    </tr>\n",
              "    <tr>\n",
              "      <th>9</th>\n",
              "      <td>10</td>\n",
              "      <td>0</td>\n",
              "      <td>user user welcome m so gr would</td>\n",
              "      <td>50</td>\n",
              "    </tr>\n",
              "  </tbody>\n",
              "</table>\n",
              "</div>"
            ],
            "text/plain": [
              "   id  label                                              tweet  tweet_length\n",
              "0   1      0  user father dysfunctional is selfish drags kid...           102\n",
              "1   2      0  user user thanks lyft credit use cause don off...           122\n",
              "2   3      0                                     bihday majesty            21\n",
              "3   4      0         model love take all time urð ð ð ð ð ð ð ð            86\n",
              "4   5      0                      factsguide society motivation            39\n",
              "5   6      0  would would huge fan fare big talking they lea...           116\n",
              "6   7      0  user camping tomorrow user user user user user...            74\n",
              "7   8      0  next school year the year exams ð think that ð...           143\n",
              "8   9      0  won love land allin cavs champions cleveland c...            87\n",
              "9  10      0                    user user welcome m so gr would            50"
            ]
          },
          "metadata": {
            "tags": []
          },
          "execution_count": 9
        }
      ]
    },
    {
      "cell_type": "code",
      "metadata": {
        "trusted": true,
        "id": "tFPW5RVccjwt",
        "colab": {
          "base_uri": "https://localhost:8080/"
        },
        "outputId": "fd722cbe-bd41-4a78-f1fc-2baf165d8d2e"
      },
      "source": [
        "test.info()"
      ],
      "execution_count": null,
      "outputs": [
        {
          "output_type": "stream",
          "text": [
            "<class 'pandas.core.frame.DataFrame'>\n",
            "RangeIndex: 17197 entries, 0 to 17196\n",
            "Data columns (total 2 columns):\n",
            " #   Column  Non-Null Count  Dtype \n",
            "---  ------  --------------  ----- \n",
            " 0   id      17197 non-null  int64 \n",
            " 1   tweet   17197 non-null  object\n",
            "dtypes: int64(1), object(1)\n",
            "memory usage: 268.8+ KB\n"
          ],
          "name": "stdout"
        }
      ]
    },
    {
      "cell_type": "code",
      "metadata": {
        "trusted": true,
        "id": "QLoZdYqDcjwr",
        "colab": {
          "base_uri": "https://localhost:8080/",
          "height": 359
        },
        "outputId": "48cf3c89-937f-4609-d080-d1ef6ea83214"
      },
      "source": [
        "test.tail(10)"
      ],
      "execution_count": null,
      "outputs": [
        {
          "output_type": "execute_result",
          "data": {
            "text/html": [
              "<div>\n",
              "<style scoped>\n",
              "    .dataframe tbody tr th:only-of-type {\n",
              "        vertical-align: middle;\n",
              "    }\n",
              "\n",
              "    .dataframe tbody tr th {\n",
              "        vertical-align: top;\n",
              "    }\n",
              "\n",
              "    .dataframe thead th {\n",
              "        text-align: right;\n",
              "    }\n",
              "</style>\n",
              "<table border=\"1\" class=\"dataframe\">\n",
              "  <thead>\n",
              "    <tr style=\"text-align: right;\">\n",
              "      <th></th>\n",
              "      <th>id</th>\n",
              "      <th>tweet</th>\n",
              "    </tr>\n",
              "  </thead>\n",
              "  <tbody>\n",
              "    <tr>\n",
              "      <th>17187</th>\n",
              "      <td>49150</td>\n",
              "      <td>loving lifeðºð¸âï¸ð  #createyourfutu...</td>\n",
              "    </tr>\n",
              "    <tr>\n",
              "      <th>17188</th>\n",
              "      <td>49151</td>\n",
              "      <td>black professor demonizes, proposes nazi style...</td>\n",
              "    </tr>\n",
              "    <tr>\n",
              "      <th>17189</th>\n",
              "      <td>49152</td>\n",
              "      <td>learn how to think positive.  #positive   #ins...</td>\n",
              "    </tr>\n",
              "    <tr>\n",
              "      <th>17190</th>\n",
              "      <td>49153</td>\n",
              "      <td>we love the pretty, happy and fresh you! #teen...</td>\n",
              "    </tr>\n",
              "    <tr>\n",
              "      <th>17191</th>\n",
              "      <td>49154</td>\n",
              "      <td>2_damn_tuff-ruff_muff__techno_city-(ng005)-web...</td>\n",
              "    </tr>\n",
              "    <tr>\n",
              "      <th>17192</th>\n",
              "      <td>49155</td>\n",
              "      <td>thought factory: left-right polarisation! #tru...</td>\n",
              "    </tr>\n",
              "    <tr>\n",
              "      <th>17193</th>\n",
              "      <td>49156</td>\n",
              "      <td>feeling like a mermaid ð #hairflip #neverre...</td>\n",
              "    </tr>\n",
              "    <tr>\n",
              "      <th>17194</th>\n",
              "      <td>49157</td>\n",
              "      <td>#hillary #campaigned today in #ohio((omg)) &amp;am...</td>\n",
              "    </tr>\n",
              "    <tr>\n",
              "      <th>17195</th>\n",
              "      <td>49158</td>\n",
              "      <td>happy, at work conference: right mindset leads...</td>\n",
              "    </tr>\n",
              "    <tr>\n",
              "      <th>17196</th>\n",
              "      <td>49159</td>\n",
              "      <td>my   song \"so glad\" free download!  #shoegaze ...</td>\n",
              "    </tr>\n",
              "  </tbody>\n",
              "</table>\n",
              "</div>"
            ],
            "text/plain": [
              "          id                                              tweet\n",
              "17187  49150  loving lifeðºð¸âï¸ð  #createyourfutu...\n",
              "17188  49151  black professor demonizes, proposes nazi style...\n",
              "17189  49152  learn how to think positive.  #positive   #ins...\n",
              "17190  49153  we love the pretty, happy and fresh you! #teen...\n",
              "17191  49154  2_damn_tuff-ruff_muff__techno_city-(ng005)-web...\n",
              "17192  49155  thought factory: left-right polarisation! #tru...\n",
              "17193  49156  feeling like a mermaid ð #hairflip #neverre...\n",
              "17194  49157  #hillary #campaigned today in #ohio((omg)) &am...\n",
              "17195  49158  happy, at work conference: right mindset leads...\n",
              "17196  49159  my   song \"so glad\" free download!  #shoegaze ..."
            ]
          },
          "metadata": {
            "tags": []
          },
          "execution_count": 11
        }
      ]
    },
    {
      "cell_type": "code",
      "metadata": {
        "id": "d0mzSVv_7q8g",
        "colab": {
          "base_uri": "https://localhost:8080/",
          "height": 359
        },
        "outputId": "85caae6f-6f67-49b9-d2cf-ed5876896970"
      },
      "source": [
        "test['tweet'] = test['tweet'].map(lambda x: re.sub('\\\\n',' ',str(x)))\n",
        "test['tweet'] = test['tweet'].map(lambda x: re.sub(r'\\W',' ',str(x)))\n",
        "test['tweet'] = test['tweet'].map(lambda x: re.sub(r'\\s+[a-zA-Z]\\s+',' ',str(x)))\n",
        "test['tweet'] = test['tweet'].map(lambda x: re.sub(r'\\^[a-zA-Z]\\s+',' ',str(x)))\n",
        "test['tweet'] = test['tweet'].map(lambda x: re.sub(r'\\s+',' ',str(x)))\n",
        "test['tweet'] = test['tweet'].str.lower()\n",
        "\n",
        "test['tweet'] = test['tweet'].map(lambda x: re.sub(r\"\\’\", \"\\'\", str(x)))\n",
        "test['tweet'] = test['tweet'].map(lambda x: re.sub(r\"won\\'t\", \"will not\", str(x)))\n",
        "test['tweet'] = test['tweet'].map(lambda x: re.sub(r\"can\\'t\", \"can not\", str(x)))\n",
        "test['tweet'] = test['tweet'].map(lambda x: re.sub(r\"don\\'t\", \"do not\", str(x)))\n",
        "test['tweet'] = test['tweet'].map(lambda x: re.sub(r\"dont\", \"do not\", str(x)))\n",
        "test['tweet'] = test['tweet'].map(lambda x: re.sub(r\"n\\’t\", \" not\", str(x)))\n",
        "test['tweet'] = test['tweet'].map(lambda x: re.sub(r\"n\\'t\", \" not\", str(x)))\n",
        "test['tweet'] = test['tweet'].map(lambda x: re.sub(r\"\\'re\", \" are\", str(x)))\n",
        "test['tweet'] = test['tweet'].map(lambda x: re.sub(r\"\\'s\", \" is\", str(x)))\n",
        "test['tweet'] = test['tweet'].map(lambda x: re.sub(r\"\\’d\", \" would\", str(x)))\n",
        "test['tweet'] = test['tweet'].map(lambda x: re.sub(r\"\\d\", \" would\", str(x)))\n",
        "test['tweet'] = test['tweet'].map(lambda x: re.sub(r\"\\'ll\", \" will\", str(x)))\n",
        "test['tweet'] = test['tweet'].map(lambda x: re.sub(r\"\\'t\", \" not\", str(x)))\n",
        "test['tweet'] = test['tweet'].map(lambda x: re.sub(r\"\\'ve\", \" have\", str(x)))\n",
        "test['tweet'] = test['tweet'].map(lambda x: re.sub(r\"\\'m\", \" am\", str(x)))\n",
        "test['tweet'] = test['tweet'].map(lambda x: re.sub(r\"\\n\", \"\", str(x)))\n",
        "test['tweet'] = test['tweet'].map(lambda x: re.sub(r\"\\r\", \"\", str(x)))\n",
        "test['tweet'] = test['tweet'].map(lambda x: re.sub(r\"[0-9]\", \"digit\", str(x)))\n",
        "test['tweet'] = test['tweet'].map(lambda x: re.sub(r\"\\'\", \"\", str(x)))\n",
        "test['tweet'] = test['tweet'].map(lambda x: re.sub(r\"\\\"\", \"\", str(x)))\n",
        "test['tweet'] = test['tweet'].map(lambda x: re.sub(r'[?|!|\\'|\"|#]',r'', str(x)))\n",
        "test['tweet'] = test['tweet'].map(lambda x: re.sub(r'[.|,|)|(|\\|/]',r' ', str(x)))\n",
        "test['tweet'] = test['tweet'].apply(lambda x: remove_stopwords(x))\n",
        "\n",
        "test.tail(10)"
      ],
      "execution_count": null,
      "outputs": [
        {
          "output_type": "execute_result",
          "data": {
            "text/html": [
              "<div>\n",
              "<style scoped>\n",
              "    .dataframe tbody tr th:only-of-type {\n",
              "        vertical-align: middle;\n",
              "    }\n",
              "\n",
              "    .dataframe tbody tr th {\n",
              "        vertical-align: top;\n",
              "    }\n",
              "\n",
              "    .dataframe thead th {\n",
              "        text-align: right;\n",
              "    }\n",
              "</style>\n",
              "<table border=\"1\" class=\"dataframe\">\n",
              "  <thead>\n",
              "    <tr style=\"text-align: right;\">\n",
              "      <th></th>\n",
              "      <th>id</th>\n",
              "      <th>tweet</th>\n",
              "    </tr>\n",
              "  </thead>\n",
              "  <tbody>\n",
              "    <tr>\n",
              "      <th>17187</th>\n",
              "      <td>49150</td>\n",
              "      <td>loving lifeð ºð â ï ð createyourfuture lifesty...</td>\n",
              "    </tr>\n",
              "    <tr>\n",
              "      <th>17188</th>\n",
              "      <td>49151</td>\n",
              "      <td>black professor demonizes proposes nazi style ...</td>\n",
              "    </tr>\n",
              "    <tr>\n",
              "      <th>17189</th>\n",
              "      <td>49152</td>\n",
              "      <td>learn to think positive positive instagram ins...</td>\n",
              "    </tr>\n",
              "    <tr>\n",
              "      <th>17190</th>\n",
              "      <td>49153</td>\n",
              "      <td>love pretty happy fresh teenilicious fixdermat...</td>\n",
              "    </tr>\n",
              "    <tr>\n",
              "      <th>17191</th>\n",
              "      <td>49154</td>\n",
              "      <td>would_damn_tuff ruff_muff__techno_city ng woul...</td>\n",
              "    </tr>\n",
              "    <tr>\n",
              "      <th>17192</th>\n",
              "      <td>49155</td>\n",
              "      <td>thought factory left right polarisation trump ...</td>\n",
              "    </tr>\n",
              "    <tr>\n",
              "      <th>17193</th>\n",
              "      <td>49156</td>\n",
              "      <td>feeling like mermaid ð hairflip neverready for...</td>\n",
              "    </tr>\n",
              "    <tr>\n",
              "      <th>17194</th>\n",
              "      <td>49157</td>\n",
              "      <td>hillary campaigned today ohio omg amp used wor...</td>\n",
              "    </tr>\n",
              "    <tr>\n",
              "      <th>17195</th>\n",
              "      <td>49158</td>\n",
              "      <td>happy work conference right mindset leads cult...</td>\n",
              "    </tr>\n",
              "    <tr>\n",
              "      <th>17196</th>\n",
              "      <td>49159</td>\n",
              "      <td>song glad free download shoegaze newmusic newsong</td>\n",
              "    </tr>\n",
              "  </tbody>\n",
              "</table>\n",
              "</div>"
            ],
            "text/plain": [
              "          id                                              tweet\n",
              "17187  49150  loving lifeð ºð â ï ð createyourfuture lifesty...\n",
              "17188  49151  black professor demonizes proposes nazi style ...\n",
              "17189  49152  learn to think positive positive instagram ins...\n",
              "17190  49153  love pretty happy fresh teenilicious fixdermat...\n",
              "17191  49154  would_damn_tuff ruff_muff__techno_city ng woul...\n",
              "17192  49155  thought factory left right polarisation trump ...\n",
              "17193  49156  feeling like mermaid ð hairflip neverready for...\n",
              "17194  49157  hillary campaigned today ohio omg amp used wor...\n",
              "17195  49158  happy work conference right mindset leads cult...\n",
              "17196  49159  song glad free download shoegaze newmusic newsong"
            ]
          },
          "metadata": {
            "tags": []
          },
          "execution_count": 12
        }
      ]
    },
    {
      "cell_type": "markdown",
      "metadata": {
        "id": "95kqxe4o2jAR"
      },
      "source": [
        "\n",
        "# **0-positive, 1-negative**"
      ]
    },
    {
      "cell_type": "code",
      "metadata": {
        "trusted": true,
        "id": "thAdyuFWcjwv",
        "colab": {
          "base_uri": "https://localhost:8080/",
          "height": 296
        },
        "outputId": "f81f3eec-26f4-43cd-d5f4-b8dab33b2d6d"
      },
      "source": [
        "sns.countplot(train[\"label\"])"
      ],
      "execution_count": null,
      "outputs": [
        {
          "output_type": "execute_result",
          "data": {
            "text/plain": [
              "<matplotlib.axes._subplots.AxesSubplot at 0x7ff86159b950>"
            ]
          },
          "metadata": {
            "tags": []
          },
          "execution_count": 13
        },
        {
          "output_type": "display_data",
          "data": {
            "image/png": "[encoded data removed]",
            "text/plain": [
              "<Figure size 432x288 with 1 Axes>"
            ]
          },
          "metadata": {
            "tags": [],
            "needs_background": "light"
          }
        }
      ]
    },
    {
      "cell_type": "code",
      "metadata": {
        "id": "i4JFdNLy4oct",
        "colab": {
          "base_uri": "https://localhost:8080/"
        },
        "outputId": "53212f4d-d240-4b56-e78d-c30f6c9f1c61"
      },
      "source": [
        "train2 = train.drop('label', axis=1)\n",
        "target = train[\"label\"]\n",
        "target.head()"
      ],
      "execution_count": null,
      "outputs": [
        {
          "output_type": "execute_result",
          "data": {
            "text/plain": [
              "0    0\n",
              "1    0\n",
              "2    0\n",
              "3    0\n",
              "4    0\n",
              "Name: label, dtype: int64"
            ]
          },
          "metadata": {
            "tags": []
          },
          "execution_count": 14
        }
      ]
    },
    {
      "cell_type": "code",
      "metadata": {
        "id": "rYjXQJLECYoy"
      },
      "source": [
        "x_train, x_val, y_train, y_val = train_test_split(train2, target, test_size=0.3, random_state=2019)"
      ],
      "execution_count": null,
      "outputs": []
    },
    {
      "cell_type": "markdown",
      "metadata": {
        "id": "s3qxc46cq38Q"
      },
      "source": [
        "## Vectorize"
      ]
    },
    {
      "cell_type": "code",
      "metadata": {
        "id": "KGzRtCL9p3od"
      },
      "source": [
        "import string\n",
        "\n",
        "def process_text(text):\n",
        "    '''\n",
        "    What will be covered:\n",
        "    1. Remove punctuation\n",
        "    2. Remove stopwords\n",
        "    3. Return list of clean text words\n",
        "    '''\n",
        "\n",
        "    #1\n",
        "    nopunc = [char for char in text if char not in string.punctuation]\n",
        "    nopunc = ''.join(nopunc)\n",
        "\n",
        "    #2\n",
        "    clean_words = [word for word in nopunc.split() if word.lower() not in stopwords.words('english')]\n",
        "\n",
        "    #3\n",
        "    return clean_words"
      ],
      "execution_count": null,
      "outputs": []
    },
    {
      "cell_type": "code",
      "metadata": {
        "id": "alvAEQI2gsfi",
        "colab": {
          "base_uri": "https://localhost:8080/"
        },
        "outputId": "1261361a-a403-4711-df14-da3bb9a9c8a2"
      },
      "source": [
        "# Convert all the text into vector form\n",
        "\n",
        "#vec = CountVectorizer(analyzer=process_text)\n",
        "#vec = CountVectorizer()\n",
        "#vec = CountVectorizer(stop_words='english', binary=True)\n",
        "#vec = CountVectorizer(stop_words='english', ngram_range=(1,10), analyzer='char', token_pattern=r'\\w{1,}', min_df=4)\n",
        "#vec = CountVectorizer(stop_words='english', ngram_range=(1,4), analyzer='char', min_df=4)\n",
        "#vec = CountVectorizer(analyzer='word',token_pattern=r'\\w{1,}', ngram_range=(1, 4), stop_words = 'english')\n",
        "\n",
        "#vec = TfidfVectorizer(stop_words='english')\n",
        "#vec = TfidfVectorizer(stop_words='english', sublinear_tf=True, strip_accents='unicode', analyzer='char', token_pattern=r'\\w{1,}', ngram_range=(1, 3), max_features=20000)\n",
        "#vec = TfidfVectorizer(ngram_range=(1,5), min_df=3, stop_words='english', max_df=0.9, strip_accents='unicode', use_idf=1, smooth_idf=1, sublinear_tf=1 )\n",
        "vec = TfidfVectorizer(min_df=3, max_features=None, strip_accents='unicode', analyzer='word',token_pattern=r'\\w{1,}', ngram_range=(1, 4), use_idf=1,smooth_idf=1,sublinear_tf=1, stop_words = 'english')\n",
        "\n",
        "#vec = HashingVectorizer()\n",
        "\n",
        "#X_train_counts = vec.fit_transform(x_train['tweet'])\n",
        "X_train_counts = vec.fit_transform(train['tweet'])\n",
        "\n",
        "# TF-IDF\n",
        "tfidf_transformer = TfidfTransformer()\n",
        "X_train_tfidf = tfidf_transformer.fit_transform(X_train_counts)\n",
        "X_train_tfidf.shape"
      ],
      "execution_count": null,
      "outputs": [
        {
          "output_type": "execute_result",
          "data": {
            "text/plain": [
              "(31962, 23097)"
            ]
          },
          "metadata": {
            "tags": []
          },
          "execution_count": 17
        }
      ]
    },
    {
      "cell_type": "code",
      "metadata": {
        "id": "TwVZDbxq8a_1",
        "colab": {
          "base_uri": "https://localhost:8080/"
        },
        "outputId": "bd5714b7-ff3d-49db-bcbf-275aa69bd105"
      },
      "source": [
        "X_val_counts = vec.transform(x_val['tweet'])\n",
        "X_val_tfidf = tfidf_transformer.transform(X_val_counts)\n",
        "print(X_val_tfidf.shape)"
      ],
      "execution_count": null,
      "outputs": [
        {
          "output_type": "stream",
          "text": [
            "(9589, 23097)\n"
          ],
          "name": "stdout"
        }
      ]
    },
    {
      "cell_type": "code",
      "metadata": {
        "trusted": true,
        "id": "ngySgGzScjwz",
        "colab": {
          "base_uri": "https://localhost:8080/"
        },
        "outputId": "8cdc5b70-aaec-4361-b802-f5755408bd15"
      },
      "source": [
        "X_test_counts = vec.transform(test['tweet'])\n",
        "X_test_tfidf = tfidf_transformer.transform(X_test_counts)\n",
        "print(X_test_tfidf.shape)"
      ],
      "execution_count": null,
      "outputs": [
        {
          "output_type": "stream",
          "text": [
            "(17197, 23097)\n"
          ],
          "name": "stdout"
        }
      ]
    },
    {
      "cell_type": "markdown",
      "metadata": {
        "id": "-Y0ZFC6kUuHD"
      },
      "source": [
        "\n",
        "## Different Machine Learning Models"
      ]
    },
    {
      "cell_type": "code",
      "metadata": {
        "id": "sF7iT91Fd9c-"
      },
      "source": [
        "#KNN\n",
        "# from sklearn.neighbors import KNeighborsClassifier\n",
        "# clf_knn = KNeighborsClassifier(n_neighbors=26,random_state=2019).fit(X_train_tfidf, target)\n",
        "# y_pred = clf_knn.predict(X_test_tfidf)\n",
        "# y_pred"
      ],
      "execution_count": null,
      "outputs": []
    },
    {
      "cell_type": "code",
      "metadata": {
        "id": "kNGZSOlm0x0V"
      },
      "source": [
        "# param_grid = dict(n_neighbors=list(range(1, 31)),weights=['uniform', 'distance'])\n",
        "# print(param_grid)\n",
        "# grid = GridSearchCV(clf_knn, param_grid, cv=10, scoring='accuracy')\n",
        "# grid.fit(X_train_tfidf, target)\n",
        "# print(grid.best_estimator_)\n",
        "# print(grid.best_params_)\n",
        "# print(grid.best_score_)"
      ],
      "execution_count": null,
      "outputs": []
    },
    {
      "cell_type": "code",
      "metadata": {
        "id": "bCoofyyPrykN"
      },
      "source": [
        "#accuracy_score(y_val, clf_knn.predict(X_val_tfidf))\n",
        "# from sklearn.metrics import f1_score\n",
        "# f1_score(y_true, y_pred, average='macro')\n"
      ],
      "execution_count": null,
      "outputs": []
    },
    {
      "cell_type": "code",
      "metadata": {
        "id": "QwsseLsvlo3N"
      },
      "source": [
        "#Random Forest\n",
        "# from sklearn.ensemble import RandomForestClassifier\n",
        "# clf_forest = RandomForestClassifier(random_state=2019,n_estimators=100).fit(X_train_tfidf, target)\n",
        "# #clf_forest = RandomForestClassifier(n_estimators=200, random_state=2019, min_samples_split=2, min_samples_leaf=2, criterion=\"entropy\", bootstrap=False).fit(X_train_tfidf, target)\n",
        "# y_pred = clf_forest.predict(X_test_tfidf)\n",
        "# y_pred"
      ],
      "execution_count": null,
      "outputs": []
    },
    {
      "cell_type": "code",
      "metadata": {
        "id": "LSYhy502mvrw"
      },
      "source": [
        "#Naive Bayes\n",
        "# from sklearn.naive_bayes import MultinomialNB\n",
        "# clf_nb = MultinomialNB(alpha=1,random_state=2019).fit(X_train_tfidf, target)\n",
        "# y_pred = clf_nb.predict(X_test_tfidf)\n",
        "# y_pred"
      ],
      "execution_count": null,
      "outputs": []
    },
    {
      "cell_type": "code",
      "metadata": {
        "id": "JXbI4T0wG92O"
      },
      "source": [
        "#Ridge Classifier\n",
        "# from sklearn.linear_model import RidgeClassifier\n",
        "# clf_rdg = RidgeClassifier(alpha=1000, random_state=2019).fit(X_train_tfidf, target)\n",
        "# #clf_rdg = RidgeClassifier(tol=1e+2, solver=\"sag\").fit(X_train_tfidf, target)\n",
        "# y_pred = clf_rdg.predict(X_test_tfidf)\n",
        "# y_pred"
      ],
      "execution_count": null,
      "outputs": []
    },
    {
      "cell_type": "code",
      "metadata": {
        "id": "24wCnThalWtC"
      },
      "source": [
        "#Gradient Boosting\n",
        "# from sklearn.ensemble import GradientBoostingClassifier\n",
        "# #clf_gbc = GradientBoostingClassifier(random_state=2019).fit(X_train_tfidf, target)\n",
        "# clf_gbc = GradientBoostingClassifier(n_estimators=300,max_depth=5,random_state=2019).fit(X_train_tfidf, target)\n",
        "# y_pred = clf_gbc.predict(X_test_tfidf)\n",
        "# y_pred"
      ],
      "execution_count": null,
      "outputs": []
    },
    {
      "cell_type": "code",
      "metadata": {
        "id": "Dv2p4HQsjlyd"
      },
      "source": [
        "#Ada Boost\n",
        "# from sklearn.ensemble import AdaBoostClassifier\n",
        "# clf_abc = AdaBoostClassifier(random_state=2019).fit(X_train_tfidf, target)\n",
        "# y_pred = clf_abc.predict(X_test_tfidf)\n",
        "# y_pred"
      ],
      "execution_count": null,
      "outputs": []
    },
    {
      "cell_type": "code",
      "metadata": {
        "id": "fOAlWGLWnUDL"
      },
      "source": [
        "#XG Boost Classifier\n",
        "# from xgboost import XGBClassifier\n",
        "# clf_xgb = XGBClassifier(random_state=2019, params = {'learning_rate': 0.2, 'max_depth': 2, 'n_estimators':200, 'subsample':0.6, 'objective':'binary:logistic'}).fit(X_train_tfidf, target)\n",
        "# y_pred = clf_xgb.predict(X_test_tfidf)\n",
        "# y_pred"
      ],
      "execution_count": null,
      "outputs": []
    },
    {
      "cell_type": "markdown",
      "metadata": {
        "id": "TZaONeyDZe77"
      },
      "source": [
        "\n",
        "## Predict on test data"
      ]
    },
    {
      "cell_type": "code",
      "metadata": {
        "id": "8dvp_PsanGiv",
        "colab": {
          "base_uri": "https://localhost:8080/"
        },
        "outputId": "a8cf7b14-1ce3-429d-8e0b-9212af493cf2"
      },
      "source": [
        "#Logistic Regression\n",
        "from sklearn.linear_model import LogisticRegression\n",
        "clf_log = LogisticRegression(random_state=2019, C=1000).fit(X_train_tfidf, target)\n",
        "#clf_log = LogisticRegression(random_state=2019, C=100).fit(X_train_tfidf, y_train)\n",
        "#clf_log = LogisticRegression(random_state=2019, solver='lbfgs',C=10).fit(X_train_tfidf, y_train)\n",
        "y_pred = clf_log.predict(X_test_tfidf)\n",
        "y_pred"
      ],
      "execution_count": null,
      "outputs": [
        {
          "output_type": "execute_result",
          "data": {
            "text/plain": [
              "array([0, 0, 0, ..., 0, 0, 0])"
            ]
          },
          "metadata": {
            "tags": []
          },
          "execution_count": 29
        }
      ]
    },
    {
      "cell_type": "code",
      "metadata": {
        "id": "rhv1DglZfzdF",
        "colab": {
          "base_uri": "https://localhost:8080/"
        },
        "outputId": "386157de-23f3-421f-bec4-4edcb03a956d"
      },
      "source": [
        "clf_log"
      ],
      "execution_count": null,
      "outputs": [
        {
          "output_type": "execute_result",
          "data": {
            "text/plain": [
              "LogisticRegression(C=1000, class_weight=None, dual=False, fit_intercept=True,\n",
              "                   intercept_scaling=1, l1_ratio=None, max_iter=100,\n",
              "                   multi_class='auto', n_jobs=None, penalty='l2',\n",
              "                   random_state=2019, solver='lbfgs', tol=0.0001, verbose=0,\n",
              "                   warm_start=False)"
            ]
          },
          "metadata": {
            "tags": []
          },
          "execution_count": 30
        }
      ]
    },
    {
      "cell_type": "code",
      "metadata": {
        "id": "an6dBulFVur_",
        "colab": {
          "base_uri": "https://localhost:8080/"
        },
        "outputId": "d6ffde61-f395-4c1e-93c1-8cce7ceddd5d"
      },
      "source": [
        "for c in [10, 50, 100, 1000, 10000]:\n",
        "    lr = LogisticRegression(C=c, random_state=2019).fit(X_train_tfidf, target)\n",
        "    #lr = LogisticRegression(C=c, random_state=2019).fit(X_train_tfidf, y_train)\n",
        "    print (\"f1 score for C=%s: %s\" % (c, f1_score(y_val, lr.predict(X_val_tfidf))))\n",
        "\n",
        "#Accuracy for C=50: 0.9627717816361645\n",
        "#f1 score for C=1000: 0.999298245614035"
      ],
      "execution_count": null,
      "outputs": [
        {
          "output_type": "stream",
          "text": [
            "f1 score for C=10: 0.926865671641791\n",
            "f1 score for C=50: 0.9957805907172996\n",
            "f1 score for C=100: 0.9978917779339423\n",
            "f1 score for C=1000: 0.9985955056179775\n",
            "f1 score for C=10000: 0.9985955056179775\n"
          ],
          "name": "stdout"
        }
      ]
    },
    {
      "cell_type": "code",
      "metadata": {
        "id": "NfIlrOYdiMVt",
        "colab": {
          "base_uri": "https://localhost:8080/"
        },
        "outputId": "b532fa3d-4d03-48cd-d041-4fd8b7cba2df"
      },
      "source": [
        "#print(f1_score(y_val, clf_log.predict(X_val_tfidf), average='micro'))\n",
        "print(f1_score(y_val, clf_log.predict(X_val_tfidf), average='macro'))\n",
        "#print(f1_score(y_val, clf_log.predict(X_val_tfidf), average='weighted'))"
      ],
      "execution_count": null,
      "outputs": [
        {
          "output_type": "stream",
          "text": [
            "0.999241427473853\n"
          ],
          "name": "stdout"
        }
      ]
    },
    {
      "cell_type": "markdown",
      "metadata": {
        "id": "udQCKYepZYP1"
      },
      "source": [
        "## Submission"
      ]
    },
    {
      "cell_type": "code",
      "metadata": {
        "trusted": true,
        "id": "csK_3cbBcjxK",
        "colab": {
          "base_uri": "https://localhost:8080/"
        },
        "outputId": "871bdffa-54b7-40b3-cd90-584557c23a91"
      },
      "source": [
        "submission = {}\n",
        "submission['id'] = test['id']\n",
        "submission['label'] = y_pred\n",
        "submission = pd.DataFrame(submission)\n",
        "submission = submission[['id', 'label']]\n",
        "submission.to_csv(\"submisision.csv\", index=False)\n",
        "print(submission['label'].value_counts())"
      ],
      "execution_count": null,
      "outputs": [
        {
          "output_type": "stream",
          "text": [
            "0    16089\n",
            "1     1108\n",
            "Name: label, dtype: int64\n"
          ],
          "name": "stdout"
        }
      ]
    },
    {
      "cell_type": "code",
      "metadata": {
        "trusted": true,
        "id": "n9UjCDwQcjxN",
        "colab": {
          "base_uri": "https://localhost:8080/"
        },
        "outputId": "ff2c669e-12bd-47b3-f5d8-7e1c36f0258f"
      },
      "source": [
        "!ls -ltr"
      ],
      "execution_count": null,
      "outputs": [
        {
          "output_type": "stream",
          "text": [
            "total 144\n",
            "drwxr-xr-x 1 root root   4096 Jun 15 13:37 sample_data\n",
            "drwx------ 6 root root   4096 Jun 30 18:27 drive\n",
            "-rw-r--r-- 1 root root 137585 Jun 30 18:28 submisision.csv\n"
          ],
          "name": "stdout"
        }
      ]
    },
    {
      "cell_type": "code",
      "metadata": {
        "id": "lsYjKA9SFyha",
        "colab": {
          "base_uri": "https://localhost:8080/",
          "height": 34
        },
        "outputId": "4d9988d6-7286-41f0-daf0-193efb7a51c0"
      },
      "source": [
        "files.download('/content/drive/MyDrive/Colab Notebooks/Analytics Vidya/Twitter Sentiment Analysis/Final submisision.csv')"
      ],
      "execution_count": null,
      "outputs": [
        {
          "output_type": "display_data",
          "data": {
            "application/javascript": [
              "\n",
              "    async function download(id, filename, size) {\n",
              "      if (!google.colab.kernel.accessAllowed) {\n",
              "        return;\n",
              "      }\n",
              "      const div = document.createElement('div');\n",
              "      const label = document.createElement('label');\n",
              "      label.textContent = `Downloading \"${filename}\": `;\n",
              "      div.appendChild(label);\n",
              "      const progress = document.createElement('progress');\n",
              "      progress.max = size;\n",
              "      div.appendChild(progress);\n",
              "      document.body.appendChild(div);\n",
              "\n",
              "      const buffers = [];\n",
              "      let downloaded = 0;\n",
              "\n",
              "      const channel = await google.colab.kernel.comms.open(id);\n",
              "      // Send a message to notify the kernel that we're ready.\n",
              "      channel.send({})\n",
              "\n",
              "      for await (const message of channel.messages) {\n",
              "        // Send a message to notify the kernel that we're ready.\n",
              "        channel.send({})\n",
              "        if (message.buffers) {\n",
              "          for (const buffer of message.buffers) {\n",
              "            buffers.push(buffer);\n",
              "            downloaded += buffer.byteLength;\n",
              "            progress.value = downloaded;\n",
              "          }\n",
              "        }\n",
              "      }\n",
              "      const blob = new Blob(buffers, {type: 'application/binary'});\n",
              "      const a = document.createElement('a');\n",
              "      a.href = window.URL.createObjectURL(blob);\n",
              "      a.download = filename;\n",
              "      div.appendChild(a);\n",
              "      a.click();\n",
              "      div.remove();\n",
              "    }\n",
              "  "
            ],
            "text/plain": [
              "<IPython.core.display.Javascript object>"
            ]
          },
          "metadata": {
            "tags": []
          }
        },
        {
          "output_type": "display_data",
          "data": {
            "application/javascript": [
              "download(\"download_1d85c229-9ff9-4347-85e7-c368fc6c8988\", \"submisision.csv\", 137585)"
            ],
            "text/plain": [
              "<IPython.core.display.Javascript object>"
            ]
          },
          "metadata": {
            "tags": []
          }
        }
      ]
    },
    {
      "cell_type": "code",
      "metadata": {
        "id": "V2JjK1zNGOBX"
      },
      "source": [],
      "execution_count": null,
      "outputs": []
    }
  ]
}